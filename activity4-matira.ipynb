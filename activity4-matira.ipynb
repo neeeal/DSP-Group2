{
 "cells": [
  {
   "cell_type": "markdown",
   "metadata": {},
   "source": [
    "# AUTOMATING STATISTICAL ANALYSIS"
   ]
  },
  {
   "cell_type": "code",
   "execution_count": 1,
   "metadata": {},
   "outputs": [],
   "source": [
    "import os \n",
    "import numpy as np\n",
    "import matplotlib.pyplot as plt\n",
    "import csv\n"
   ]
  },
  {
   "cell_type": "markdown",
   "metadata": {},
   "source": [
    "## STAGING DATA"
   ]
  },
  {
   "cell_type": "code",
   "execution_count": 85,
   "metadata": {},
   "outputs": [
    {
     "name": "stdout",
     "output_type": "stream",
     "text": [
      "Number of files to process: 196\n"
     ]
    }
   ],
   "source": [
    "dataPath = \"dataset for kids-20230919T000215Z-001\\\\dataset for kids\"\n",
    "\n",
    "dataFiles = os.listdir(dataPath)\n",
    "dataFilesPath = [os.path.join(dataPath,file) for file in dataFiles if \n",
    "                 file.split(\".\")[0].split(\"_\")[-1]==\"B1\" and \"BaseNoise\" not in file and \"csv\" in file]\n",
    "\n",
    "print(\"Number of files to process:\", len(dataFilesPath))\n"
   ]
  },
  {
   "cell_type": "code",
   "execution_count": 94,
   "metadata": {},
   "outputs": [],
   "source": [
    "def getDataPoints(filepath):\n",
    "    ## GETTING DATA FROM CSV FILE\n",
    "    dataPoints = []\n",
    "    idx = []\n",
    "    with open(filepath) as f:\n",
    "        reader = csv.reader(f)\n",
    "        for i in range(6): next(reader)\n",
    "        for row in reader:\n",
    "            if len(row) > 0: \n",
    "                idx.append(row[0])\n",
    "                dataPoints.append(row[1])\n",
    "\n",
    "    dataPoints = np.array(dataPoints, dtype=float)\n",
    "    idx = np.array(idx, dtype=float)\n",
    "    return idx,dataPoints"
   ]
  },
  {
   "cell_type": "code",
   "execution_count": 155,
   "metadata": {},
   "outputs": [],
   "source": [
    "## GETTING MEAN OF ALL IMAGES\n",
    "meanImages = []\n",
    "idx = []\n",
    "flag = 0\n",
    "for path in dataFilesPath:\n",
    "    if flag == 0:\n",
    "        idx,dataPoints = getDataPoints(path)\n",
    "        flag = 1\n",
    "        continue\n",
    "    _,dataPoints = getDataPoints(path)\n",
    "    meanDataPoints = np.mean(dataPoints)\n",
    "    meanImages.append(meanDataPoints)\n"
   ]
  },
  {
   "cell_type": "code",
   "execution_count": null,
   "metadata": {},
   "outputs": [],
   "source": [
    "# ## GETTING MEAN OF ALL IMAGES\n",
    "# meanPerStep = []\n",
    "# idx = []\n",
    "# flag = 0\n",
    "# for path in dataFilesPath:\n",
    "#     if flag == 0:\n",
    "#         idx,dataPoints = getDataPoints(path)\n",
    "#         flag = 1\n",
    "#         for data in dataPoints):\n",
    "#             meanPerStep.append([data])\n",
    "#         continue\n",
    "#     _,dataPoints = getDataPoints(path)\n",
    "#     for n,data in enumerate(dataPoints):\n",
    "#         meanPerStep[n].append(data)\n"
   ]
  },
  {
   "cell_type": "code",
   "execution_count": 149,
   "metadata": {},
   "outputs": [],
   "source": [
    "# meanPerStep = np.array([np.mean(x) for x in meanImages]).T"
   ]
  },
  {
   "cell_type": "code",
   "execution_count": 152,
   "metadata": {},
   "outputs": [],
   "source": [
    "idxSteps = [i for i in range(0, len(meanImages))]\n",
    "idxSteps = np.array(idxSteps).T"
   ]
  },
  {
   "cell_type": "code",
   "execution_count": 156,
   "metadata": {},
   "outputs": [
    {
     "ename": "ValueError",
     "evalue": "x and y must have same first dimension, but have shapes (41666,) and (195,)",
     "output_type": "error",
     "traceback": [
      "\u001b[1;31m---------------------------------------------------------------------------\u001b[0m",
      "\u001b[1;31mValueError\u001b[0m                                Traceback (most recent call last)",
      "\u001b[1;32me:\\dev\\Github\\DSP-Group2\\activity4-matira.ipynb Cell 10\u001b[0m line \u001b[0;36m1\n\u001b[0;32m     <a href='vscode-notebook-cell:/e%3A/dev/Github/DSP-Group2/activity4-matira.ipynb#X10sZmlsZQ%3D%3D?line=12'>13</a>\u001b[0m name \u001b[39m=\u001b[39m \u001b[39mf\u001b[39m\u001b[39m\"\u001b[39m\u001b[39mStep #\u001b[39m\u001b[39m{\u001b[39;00mstep\u001b[39m}\u001b[39;00m\u001b[39m\"\u001b[39m\n\u001b[0;32m     <a href='vscode-notebook-cell:/e%3A/dev/Github/DSP-Group2/activity4-matira.ipynb#X10sZmlsZQ%3D%3D?line=13'>14</a>\u001b[0m txt \u001b[39m=\u001b[39m \u001b[39mf\u001b[39m\u001b[39m\"\u001b[39m\u001b[39mmean = \u001b[39m\u001b[39m{\u001b[39;00mmeanDataPoints\u001b[39m}\u001b[39;00m\u001b[39m\\n\u001b[39;00m\u001b[39mstd = \u001b[39m\u001b[39m{\u001b[39;00mstdDataPoints\u001b[39m}\u001b[39;00m\u001b[39m\"\u001b[39m\n\u001b[1;32m---> <a href='vscode-notebook-cell:/e%3A/dev/Github/DSP-Group2/activity4-matira.ipynb#X10sZmlsZQ%3D%3D?line=14'>15</a>\u001b[0m axs[\u001b[39m0\u001b[39;49m]\u001b[39m.\u001b[39;49mplot(idxSteps,meanImages)\n\u001b[0;32m     <a href='vscode-notebook-cell:/e%3A/dev/Github/DSP-Group2/activity4-matira.ipynb#X10sZmlsZQ%3D%3D?line=15'>16</a>\u001b[0m axs[\u001b[39m0\u001b[39m]\u001b[39m.\u001b[39mset_title(name)\n\u001b[0;32m     <a href='vscode-notebook-cell:/e%3A/dev/Github/DSP-Group2/activity4-matira.ipynb#X10sZmlsZQ%3D%3D?line=16'>17</a>\u001b[0m axs[\u001b[39m1\u001b[39m]\u001b[39m.\u001b[39mplot(idx,dataPoints)\n",
      "File \u001b[1;32mc:\\Users\\user\\miniconda3\\envs\\tf\\Lib\\site-packages\\matplotlib\\axes\\_axes.py:1688\u001b[0m, in \u001b[0;36mAxes.plot\u001b[1;34m(self, scalex, scaley, data, *args, **kwargs)\u001b[0m\n\u001b[0;32m   1445\u001b[0m \u001b[39m\u001b[39m\u001b[39m\"\"\"\u001b[39;00m\n\u001b[0;32m   1446\u001b[0m \u001b[39mPlot y versus x as lines and/or markers.\u001b[39;00m\n\u001b[0;32m   1447\u001b[0m \n\u001b[1;32m   (...)\u001b[0m\n\u001b[0;32m   1685\u001b[0m \u001b[39m(``'green'``) or hex strings (``'#008000'``).\u001b[39;00m\n\u001b[0;32m   1686\u001b[0m \u001b[39m\"\"\"\u001b[39;00m\n\u001b[0;32m   1687\u001b[0m kwargs \u001b[39m=\u001b[39m cbook\u001b[39m.\u001b[39mnormalize_kwargs(kwargs, mlines\u001b[39m.\u001b[39mLine2D)\n\u001b[1;32m-> 1688\u001b[0m lines \u001b[39m=\u001b[39m [\u001b[39m*\u001b[39m\u001b[39mself\u001b[39m\u001b[39m.\u001b[39m_get_lines(\u001b[39m*\u001b[39margs, data\u001b[39m=\u001b[39mdata, \u001b[39m*\u001b[39m\u001b[39m*\u001b[39mkwargs)]\n\u001b[0;32m   1689\u001b[0m \u001b[39mfor\u001b[39;00m line \u001b[39min\u001b[39;00m lines:\n\u001b[0;32m   1690\u001b[0m     \u001b[39mself\u001b[39m\u001b[39m.\u001b[39madd_line(line)\n",
      "File \u001b[1;32mc:\\Users\\user\\miniconda3\\envs\\tf\\Lib\\site-packages\\matplotlib\\axes\\_base.py:311\u001b[0m, in \u001b[0;36m_process_plot_var_args.__call__\u001b[1;34m(self, data, *args, **kwargs)\u001b[0m\n\u001b[0;32m    309\u001b[0m     this \u001b[39m+\u001b[39m\u001b[39m=\u001b[39m args[\u001b[39m0\u001b[39m],\n\u001b[0;32m    310\u001b[0m     args \u001b[39m=\u001b[39m args[\u001b[39m1\u001b[39m:]\n\u001b[1;32m--> 311\u001b[0m \u001b[39myield from\u001b[39;00m \u001b[39mself\u001b[39;49m\u001b[39m.\u001b[39;49m_plot_args(\n\u001b[0;32m    312\u001b[0m     this, kwargs, ambiguous_fmt_datakey\u001b[39m=\u001b[39;49mambiguous_fmt_datakey)\n",
      "File \u001b[1;32mc:\\Users\\user\\miniconda3\\envs\\tf\\Lib\\site-packages\\matplotlib\\axes\\_base.py:504\u001b[0m, in \u001b[0;36m_process_plot_var_args._plot_args\u001b[1;34m(self, tup, kwargs, return_kwargs, ambiguous_fmt_datakey)\u001b[0m\n\u001b[0;32m    501\u001b[0m     \u001b[39mself\u001b[39m\u001b[39m.\u001b[39maxes\u001b[39m.\u001b[39myaxis\u001b[39m.\u001b[39mupdate_units(y)\n\u001b[0;32m    503\u001b[0m \u001b[39mif\u001b[39;00m x\u001b[39m.\u001b[39mshape[\u001b[39m0\u001b[39m] \u001b[39m!=\u001b[39m y\u001b[39m.\u001b[39mshape[\u001b[39m0\u001b[39m]:\n\u001b[1;32m--> 504\u001b[0m     \u001b[39mraise\u001b[39;00m \u001b[39mValueError\u001b[39;00m(\u001b[39mf\u001b[39m\u001b[39m\"\u001b[39m\u001b[39mx and y must have same first dimension, but \u001b[39m\u001b[39m\"\u001b[39m\n\u001b[0;32m    505\u001b[0m                      \u001b[39mf\u001b[39m\u001b[39m\"\u001b[39m\u001b[39mhave shapes \u001b[39m\u001b[39m{\u001b[39;00mx\u001b[39m.\u001b[39mshape\u001b[39m}\u001b[39;00m\u001b[39m and \u001b[39m\u001b[39m{\u001b[39;00my\u001b[39m.\u001b[39mshape\u001b[39m}\u001b[39;00m\u001b[39m\"\u001b[39m)\n\u001b[0;32m    506\u001b[0m \u001b[39mif\u001b[39;00m x\u001b[39m.\u001b[39mndim \u001b[39m>\u001b[39m \u001b[39m2\u001b[39m \u001b[39mor\u001b[39;00m y\u001b[39m.\u001b[39mndim \u001b[39m>\u001b[39m \u001b[39m2\u001b[39m:\n\u001b[0;32m    507\u001b[0m     \u001b[39mraise\u001b[39;00m \u001b[39mValueError\u001b[39;00m(\u001b[39mf\u001b[39m\u001b[39m\"\u001b[39m\u001b[39mx and y can be no greater than 2D, but have \u001b[39m\u001b[39m\"\u001b[39m\n\u001b[0;32m    508\u001b[0m                      \u001b[39mf\u001b[39m\u001b[39m\"\u001b[39m\u001b[39mshapes \u001b[39m\u001b[39m{\u001b[39;00mx\u001b[39m.\u001b[39mshape\u001b[39m}\u001b[39;00m\u001b[39m and \u001b[39m\u001b[39m{\u001b[39;00my\u001b[39m.\u001b[39mshape\u001b[39m}\u001b[39;00m\u001b[39m\"\u001b[39m)\n",
      "\u001b[1;31mValueError\u001b[0m: x and y must have same first dimension, but have shapes (41666,) and (195,)"
     ]
    },
    {
     "data": {
      "image/png": "[encoded data removed]",
      "text/plain": [
       "<Figure size 1500x300 with 3 Axes>"
      ]
     },
     "metadata": {},
     "output_type": "display_data"
    }
   ],
   "source": [
    "## PLOTTING RAW VALUES AND ZSCORE DISTRIBUTION OF DATA\n",
    "_,dataPoints = getDataPoints(dataFilesPath[8])\n",
    "step = 0\n",
    "#### GETTING MEAN, STD, AND ZSCORE OF DATA\n",
    "meanDataPoints = np.mean(dataPoints)\n",
    "stdDataPoints = np.std(dataPoints)\n",
    "zscoreDataPoints = [(x-meanDataPoints)/stdDataPoints for x in dataPoints]\n",
    "\n",
    "#### PLOTTING DATA\n",
    "## PLOTTING SIDE BY SIDE\n",
    "figure, axs = plt.subplots(nrows=1, ncols= 3, figsize=(15,3))\n",
    "#### LINECHART\n",
    "name = f\"Step #{step}\"\n",
    "txt = f\"mean = {meanDataPoints}\\nstd = {stdDataPoints}\"\n",
    "axs[0].plot(idxSteps,meanImages)\n",
    "axs[0].set_title(name)\n",
    "axs[1].plot(idx,dataPoints)\n",
    "axs[1].set_title(name)\n",
    "# axs[1].set_text(0.1,0.1, txt)\n",
    "#### HISTOGRAM\n",
    "axs[2].hist(zscoreDataPoints, bins = 200)\n",
    "#### SAVE PLOT\n",
    "# figure.suptitle(name)\n",
    "plt.show()\n"
   ]
  }
 ],
 "metadata": {
  "kernelspec": {
   "display_name": "tf",
   "language": "python",
   "name": "python3"
  },
  "language_info": {
   "codemirror_mode": {
    "name": "ipython",
    "version": 3
   },
   "file_extension": ".py",
   "mimetype": "text/x-python",
   "name": "python",
   "nbconvert_exporter": "python",
   "pygments_lexer": "ipython3",
   "version": "3.11.4"
  },
  "orig_nbformat": 4
 },
 "nbformat": 4,
 "nbformat_minor": 2
}
