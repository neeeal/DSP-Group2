{
 "cells": [
  {
   "cell_type": "markdown",
   "metadata": {},
   "source": [
    "# AUTOMATING STATISTICAL ANALYSIS"
   ]
  },
  {
   "cell_type": "code",
   "execution_count": 45,
   "metadata": {},
   "outputs": [],
   "source": [
    "import os \n",
    "import numpy as np\n",
    "import matplotlib.pyplot as plt\n",
    "import csv\n",
    "from IPython.display import clear_output\n"
   ]
  },
  {
   "cell_type": "markdown",
   "metadata": {},
   "source": [
    "## STAGING DATA"
   ]
  },
  {
   "cell_type": "code",
   "execution_count": 11,
   "metadata": {},
   "outputs": [
    {
     "name": "stdout",
     "output_type": "stream",
     "text": [
      "Number of files to process: 196\n"
     ]
    }
   ],
   "source": [
    "dataPath = \"dataset for kids\"\n",
    "savePath = \"activity4-matira\"\n",
    "\n",
    "dataFiles = os.listdir(dataPath)\n",
    "dataFilesPath = [os.path.join(dataPath,file) for file in dataFiles if \n",
    "                 file.split(\".\")[0].split(\"_\")[-1]==\"B1\" and \"BaseNoise\" not in file and \"csv\" in file]\n",
    "\n",
    "print(\"Number of files to process:\", len(dataFilesPath))\n"
   ]
  },
  {
   "cell_type": "code",
   "execution_count": 12,
   "metadata": {},
   "outputs": [
    {
     "data": {
      "text/plain": [
       "['dataset for kids\\\\G1_Hd1_FTDS_SP1_050418_162003_1_0_0_B1.csv',\n",
       " 'dataset for kids\\\\G1_Hd1_FTDS_SP1_050418_162003_1_0_100_B1.csv',\n",
       " 'dataset for kids\\\\G1_Hd1_FTDS_SP1_050418_162003_1_0_101_B1.csv',\n",
       " 'dataset for kids\\\\G1_Hd1_FTDS_SP1_050418_162003_1_0_102_B1.csv',\n",
       " 'dataset for kids\\\\G1_Hd1_FTDS_SP1_050418_162003_1_0_103_B1.csv',\n",
       " 'dataset for kids\\\\G1_Hd1_FTDS_SP1_050418_162003_1_0_104_B1.csv',\n",
       " 'dataset for kids\\\\G1_Hd1_FTDS_SP1_050418_162003_1_0_105_B1.csv',\n",
       " 'dataset for kids\\\\G1_Hd1_FTDS_SP1_050418_162003_1_0_106_B1.csv',\n",
       " 'dataset for kids\\\\G1_Hd1_FTDS_SP1_050418_162003_1_0_107_B1.csv',\n",
       " 'dataset for kids\\\\G1_Hd1_FTDS_SP1_050418_162003_1_0_108_B1.csv']"
      ]
     },
     "execution_count": 12,
     "metadata": {},
     "output_type": "execute_result"
    }
   ],
   "source": [
    "dataFilesPath[:10]"
   ]
  },
  {
   "cell_type": "code",
   "execution_count": 13,
   "metadata": {},
   "outputs": [],
   "source": [
    "## SORTING\n",
    "def sorter(p):\n",
    "    ## Extract step number from file name\n",
    "    return int(p.split(\"_\")[-2])\n",
    "\n",
    "## SORT ALL FILES BY STEP\n",
    "dataFilesPath.sort(key=sorter)"
   ]
  },
  {
   "cell_type": "code",
   "execution_count": 14,
   "metadata": {},
   "outputs": [
    {
     "data": {
      "text/plain": [
       "['dataset for kids\\\\G1_Hd1_FTDS_SP1_050418_162003_1_0_0_B1.csv',\n",
       " 'dataset for kids\\\\G1_Hd1_FTDS_SP1_050418_162003_1_0_1_B1.csv',\n",
       " 'dataset for kids\\\\G1_Hd1_FTDS_SP1_050418_162003_1_0_2_B1.csv',\n",
       " 'dataset for kids\\\\G1_Hd1_FTDS_SP1_050418_162003_1_0_3_B1.csv',\n",
       " 'dataset for kids\\\\G1_Hd1_FTDS_SP1_050418_162003_1_0_4_B1.csv',\n",
       " 'dataset for kids\\\\G1_Hd1_FTDS_SP1_050418_162003_1_0_5_B1.csv',\n",
       " 'dataset for kids\\\\G1_Hd1_FTDS_SP1_050418_162003_1_0_6_B1.csv',\n",
       " 'dataset for kids\\\\G1_Hd1_FTDS_SP1_050418_162003_1_0_7_B1.csv',\n",
       " 'dataset for kids\\\\G1_Hd1_FTDS_SP1_050418_162003_1_0_8_B1.csv',\n",
       " 'dataset for kids\\\\G1_Hd1_FTDS_SP1_050418_162003_1_0_9_B1.csv']"
      ]
     },
     "execution_count": 14,
     "metadata": {},
     "output_type": "execute_result"
    }
   ],
   "source": [
    "dataFilesPath[:10]"
   ]
  },
  {
   "cell_type": "code",
   "execution_count": 41,
   "metadata": {},
   "outputs": [],
   "source": [
    "def getDataPoints(filepath):\n",
    "    ## GETTING DATA FROM CSV FILE\n",
    "    dataPoints = []\n",
    "    idx = []\n",
    "    with open(filepath) as f:\n",
    "        reader = csv.reader(f)\n",
    "        for i in range(6): next(reader)\n",
    "        for row in reader:\n",
    "            if len(row) > 0: \n",
    "                idx.append(row[0])\n",
    "                dataPoints.append(row[1])\n",
    "\n",
    "    dataPoints = np.array(dataPoints, dtype=float)\n",
    "    idx = np.array(idx, dtype=float)\n",
    "    return idx,dataPoints"
   ]
  },
  {
   "cell_type": "code",
   "execution_count": 42,
   "metadata": {},
   "outputs": [],
   "source": [
    "## GETTING MEAN OF ALL CSV\n",
    "meanCsv = []\n",
    "idx = []\n",
    "flag = 0\n",
    "for path in dataFilesPath:\n",
    "    if flag == 0:\n",
    "        idx,dataPoints = getDataPoints(path)\n",
    "        meanCsv.append(meanDataPoints)\n",
    "        flag = 1\n",
    "        continue\n",
    "    _,dataPoints = getDataPoints(path)\n",
    "    meanDataPoints = np.mean(dataPoints)\n",
    "    meanCsv.append(meanDataPoints)\n"
   ]
  },
  {
   "cell_type": "code",
   "execution_count": 43,
   "metadata": {},
   "outputs": [],
   "source": [
    "## LISTING INDEX STEPS\n",
    "idxSteps = [i for i in range(0, len(meanCsv))]\n",
    "idxSteps = np.array(idxSteps).T"
   ]
  },
  {
   "cell_type": "code",
   "execution_count": 64,
   "metadata": {},
   "outputs": [
    {
     "name": "stdout",
     "output_type": "stream",
     "text": [
      "100% | ################################################################################################### |"
     ]
    }
   ],
   "source": [
    "## PLOTTING\n",
    "color = \"orange\"\n",
    "markerColor = \"b*\"\n",
    "previousLoad = -1\n",
    "\n",
    "for step,path in enumerate(dataFilesPath):\n",
    "\n",
    "    partialLoad = 100/len(dataFilesPath)\n",
    "    currentLoad = round(step*partialLoad)\n",
    "\n",
    "    _,dataPoints = getDataPoints(dataFilesPath[step])\n",
    "    #### GETTING MEAN, STD, AND ZSCORE OF DATA\n",
    "    meanDataPoints = np.mean(dataPoints)\n",
    "    stdDataPoints = np.std(dataPoints)\n",
    "    zscoreDataPoints = [(x-meanDataPoints)/stdDataPoints for x in dataPoints]\n",
    "\n",
    "    #### PLOTTING DATA\n",
    "    ## PLOTTING SIDE BY SIDE\n",
    "    figure, axs = plt.subplots(nrows=1, ncols= 3, figsize=(15,4))\n",
    "    txt = f\"mean = {meanDataPoints}\\nstd = {stdDataPoints}\"\n",
    "    name = f\"Step #{step}\"\n",
    "\n",
    "    axs[0].plot(idxSteps,meanCsv, color=color)\n",
    "    axs[0].plot(step,meanCsv[step], markerColor)\n",
    "    axs[0].set_title(name)\n",
    "    axs[0].set_xlabel(\"Step #\", fontsize=8)\n",
    "    axs[0].set_ylabel(\"Acoustic Intensity\", fontsize=8)\n",
    "    axs[0].set(xlim =(-5, 200), ylim =(-0.9e-3, 0))\n",
    "\n",
    "    axs[1].hist(zscoreDataPoints, bins = 200, color=color)\n",
    "    axs[1].set_title(name)\n",
    "    axs[1].set_xlabel(\"Acoustic Intensity\", fontsize=8)\n",
    "    axs[1].set_ylabel(\"Count\", fontsize=8)\n",
    "    axs[1].text(-3.8, 800, txt, fontsize=8)\n",
    "    axs[1].set(xlim =(-4, 4), ylim =(0, 900))\n",
    "\n",
    "    axs[2].plot(idx,dataPoints, color=color)\n",
    "    axs[2].set_xlabel(\"Time (s)\", fontsize=8)\n",
    "    axs[2].set(xlim =(-0.0001, 0.0084), ylim =(-1.7, 1.7))\n",
    "\n",
    "    #### SAVE PLOT\n",
    "    saveName = path.split(\"\\\\\")[-1].split('.')[0]\n",
    "    plt.savefig(os.path.join(savePath,saveName))\n",
    "    plt.close()\n",
    "\n",
    "    if currentLoad >= previousLoad: \n",
    "        previousLoad = currentLoad\n",
    "        clear_output(wait=True)\n",
    "        print(f'{currentLoad+1}% | ', end=\"\")\n",
    "        for i in range(currentLoad): print('#', end='')\n",
    "        for i in range(currentLoad,99): print('-', end='')\n",
    "        print(' |', end=\"\")\n"
   ]
  }
 ],
 "metadata": {
  "kernelspec": {
   "display_name": "tf",
   "language": "python",
   "name": "python3"
  },
  "language_info": {
   "codemirror_mode": {
    "name": "ipython",
    "version": 3
   },
   "file_extension": ".py",
   "mimetype": "text/x-python",
   "name": "python",
   "nbconvert_exporter": "python",
   "pygments_lexer": "ipython3",
   "version": "3.9.13"
  },
  "orig_nbformat": 4
 },
 "nbformat": 4,
 "nbformat_minor": 2
}
