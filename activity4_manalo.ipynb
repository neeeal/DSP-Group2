{
 "cells": [
  {
   "cell_type": "code",
   "execution_count": 6,
   "metadata": {},
   "outputs": [],
   "source": [
    "import pandas as pd\n",
    "import os   "
   ]
  },
  {
   "cell_type": "code",
   "execution_count": 10,
   "metadata": {},
   "outputs": [
    {
     "data": {
      "text/plain": [
       "['dataset for kids']"
      ]
     },
     "execution_count": 10,
     "metadata": {},
     "output_type": "execute_result"
    }
   ],
   "source": [
    "folders = [f for f in os.listdir() if '.' not in f]\n",
    "folders"
   ]
  },
  {
   "cell_type": "code",
   "execution_count": 28,
   "metadata": {},
   "outputs": [
    {
     "data": {
      "text/plain": [
       "['c:\\\\Users\\\\tipqc\\\\Documents\\\\Manalo\\\\Act 4\\\\dataset for kids']"
      ]
     },
     "execution_count": 28,
     "metadata": {},
     "output_type": "execute_result"
    }
   ],
   "source": [
    "folder_paths = [os.path.join(os.getcwd(), folder) for folder in folders]  \n",
    "folder_paths"
   ]
  },
  {
   "cell_type": "code",
   "execution_count": 29,
   "metadata": {},
   "outputs": [
    {
     "name": "stdout",
     "output_type": "stream",
     "text": [
      "198\n",
      "197\n",
      "395\n"
     ]
    }
   ],
   "source": [
    "B1_files = [file for folder_path in folder_paths for file in os.listdir(folder_path) if 'B1' in file]\n",
    "B2_files = [file for folder_path in folder_paths for file in os.listdir(folder_path) if 'B2' in file]\n",
    "print(len(B1_files))\n",
    "print(len(B2_files))\n",
    "print(len(B1_files) + len(B2_files))"
   ]
  },
  {
   "cell_type": "code",
   "execution_count": null,
   "metadata": {},
   "outputs": [],
   "source": [
    "for folder_path in folder_paths:\n",
    "    print(folder_path)"
   ]
  },
  {
   "cell_type": "code",
   "execution_count": 33,
   "metadata": {},
   "outputs": [
    {
     "name": "stdout",
     "output_type": "stream",
     "text": [
      "['G1_Hd1_FTDS_SP1_050418_162003_1_0_0_B1.csv', 'G1_Hd1_FTDS_SP1_050418_162003_1_0_100_B1.csv', 'G1_Hd1_FTDS_SP1_050418_162003_1_0_101_B1.csv', 'G1_Hd1_FTDS_SP1_050418_162003_1_0_102_B1.csv', 'G1_Hd1_FTDS_SP1_050418_162003_1_0_103_B1.csv', 'G1_Hd1_FTDS_SP1_050418_162003_1_0_104_B1.csv', 'G1_Hd1_FTDS_SP1_050418_162003_1_0_105_B1.csv', 'G1_Hd1_FTDS_SP1_050418_162003_1_0_106_B1.csv', 'G1_Hd1_FTDS_SP1_050418_162003_1_0_107_B1.csv', 'G1_Hd1_FTDS_SP1_050418_162003_1_0_108_B1.csv']\n",
      "['G1_Hd1_FTDS_SP1_050418_162003_1_0_0_B2.csv', 'G1_Hd1_FTDS_SP1_050418_162003_1_0_100_B2.csv', 'G1_Hd1_FTDS_SP1_050418_162003_1_0_101_B2.csv', 'G1_Hd1_FTDS_SP1_050418_162003_1_0_102_B2.csv', 'G1_Hd1_FTDS_SP1_050418_162003_1_0_103_B2.csv', 'G1_Hd1_FTDS_SP1_050418_162003_1_0_104_B2.csv', 'G1_Hd1_FTDS_SP1_050418_162003_1_0_105_B2.csv', 'G1_Hd1_FTDS_SP1_050418_162003_1_0_106_B2.csv', 'G1_Hd1_FTDS_SP1_050418_162003_1_0_107_B2.csv', 'G1_Hd1_FTDS_SP1_050418_162003_1_0_108_B2.csv']\n"
     ]
    }
   ],
   "source": [
    "B1_file_paths = [os.path.join(folder_path, file) for file in B1_files for folder_path in folder_paths]\n",
    "B2_files_paths = [os.path.join(folder_path, file) for folder_path in folder_paths for file in B2_files]\n",
    "print(B1_files[0:10])\n",
    "print(B2_files[0:10])"
   ]
  }
 ],
 "metadata": {
  "kernelspec": {
   "display_name": "Python 3",
   "language": "python",
   "name": "python3"
  },
  "language_info": {
   "codemirror_mode": {
    "name": "ipython",
    "version": 3
   },
   "file_extension": ".py",
   "mimetype": "text/x-python",
   "name": "python",
   "nbconvert_exporter": "python",
   "pygments_lexer": "ipython3",
   "version": "3.10.11"
  },
  "orig_nbformat": 4
 },
 "nbformat": 4,
 "nbformat_minor": 2
}
